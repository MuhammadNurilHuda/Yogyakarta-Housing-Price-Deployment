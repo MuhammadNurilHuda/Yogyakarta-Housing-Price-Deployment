{
 "cells": [
  {
   "cell_type": "code",
   "execution_count": 63,
   "metadata": {},
   "outputs": [],
   "source": [
    "import pandas as pd\n",
    "import numpy as np\n",
    "import re"
   ]
  },
  {
   "cell_type": "code",
   "execution_count": 64,
   "metadata": {},
   "outputs": [
    {
     "data": {
      "text/html": [
       "<div>\n",
       "<style scoped>\n",
       "    .dataframe tbody tr th:only-of-type {\n",
       "        vertical-align: middle;\n",
       "    }\n",
       "\n",
       "    .dataframe tbody tr th {\n",
       "        vertical-align: top;\n",
       "    }\n",
       "\n",
       "    .dataframe thead th {\n",
       "        text-align: right;\n",
       "    }\n",
       "</style>\n",
       "<table border=\"1\" class=\"dataframe\">\n",
       "  <thead>\n",
       "    <tr style=\"text-align: right;\">\n",
       "      <th></th>\n",
       "      <th>price</th>\n",
       "      <th>nav-link</th>\n",
       "      <th>description</th>\n",
       "      <th>listing-location</th>\n",
       "      <th>bed</th>\n",
       "      <th>bath</th>\n",
       "      <th>carport</th>\n",
       "      <th>surface_area</th>\n",
       "      <th>building_area</th>\n",
       "    </tr>\n",
       "  </thead>\n",
       "  <tbody>\n",
       "    <tr>\n",
       "      <th>0</th>\n",
       "      <td>Rp 1,79 Miliar</td>\n",
       "      <td>https://www.rumah123.com/properti/sleman/hos17...</td>\n",
       "      <td>Rumah 2 Lantai Baru  di jalan Palagan Sleman Y...</td>\n",
       "      <td>Ngaglik, Sleman</td>\n",
       "      <td>3.0</td>\n",
       "      <td>3.0</td>\n",
       "      <td>2.0</td>\n",
       "      <td>120 m²</td>\n",
       "      <td>110 m²</td>\n",
       "    </tr>\n",
       "    <tr>\n",
       "      <th>1</th>\n",
       "      <td>Rp 170 Juta</td>\n",
       "      <td>https://www.rumah123.com/properti/sleman/hos17...</td>\n",
       "      <td>RUMAH BARU DEKAT AL AZHAR DAN UGM</td>\n",
       "      <td>Jombor, Sleman</td>\n",
       "      <td>3.0</td>\n",
       "      <td>2.0</td>\n",
       "      <td>1.0</td>\n",
       "      <td>102 m²</td>\n",
       "      <td>126 m²</td>\n",
       "    </tr>\n",
       "    <tr>\n",
       "      <th>2</th>\n",
       "      <td>Rp 695 Juta</td>\n",
       "      <td>https://www.rumah123.com/properti/sleman/hos17...</td>\n",
       "      <td>RUMAH ASRI DAN SEJUK DI BERBAH SLEMAN DEKAT PA...</td>\n",
       "      <td>Berbah, Sleman</td>\n",
       "      <td>2.0</td>\n",
       "      <td>2.0</td>\n",
       "      <td>1.0</td>\n",
       "      <td>100 m²</td>\n",
       "      <td>100 m²</td>\n",
       "    </tr>\n",
       "    <tr>\n",
       "      <th>3</th>\n",
       "      <td>Rp 560 Juta</td>\n",
       "      <td>https://www.rumah123.com/properti/sleman/hos17...</td>\n",
       "      <td>Rumah Murah 5 Menit Dari Candi Prambanan Tersi...</td>\n",
       "      <td>Prambanan, Sleman</td>\n",
       "      <td>3.0</td>\n",
       "      <td>1.0</td>\n",
       "      <td>1.0</td>\n",
       "      <td>109 m²</td>\n",
       "      <td>67 m²</td>\n",
       "    </tr>\n",
       "    <tr>\n",
       "      <th>4</th>\n",
       "      <td>Rp 200 Juta</td>\n",
       "      <td>https://www.rumah123.com/properti/sleman/hos17...</td>\n",
       "      <td>Rumah Murah Cicilan 1jt Di Moyudan Sleman</td>\n",
       "      <td>Moyudan, Sleman</td>\n",
       "      <td>2.0</td>\n",
       "      <td>1.0</td>\n",
       "      <td>1.0</td>\n",
       "      <td>60 m²</td>\n",
       "      <td>30 m²</td>\n",
       "    </tr>\n",
       "  </tbody>\n",
       "</table>\n",
       "</div>"
      ],
      "text/plain": [
       "            price                                           nav-link  \\\n",
       "0  Rp 1,79 Miliar  https://www.rumah123.com/properti/sleman/hos17...   \n",
       "1     Rp 170 Juta  https://www.rumah123.com/properti/sleman/hos17...   \n",
       "2     Rp 695 Juta  https://www.rumah123.com/properti/sleman/hos17...   \n",
       "3     Rp 560 Juta  https://www.rumah123.com/properti/sleman/hos17...   \n",
       "4     Rp 200 Juta  https://www.rumah123.com/properti/sleman/hos17...   \n",
       "\n",
       "                                         description   listing-location  bed  \\\n",
       "0  Rumah 2 Lantai Baru  di jalan Palagan Sleman Y...    Ngaglik, Sleman  3.0   \n",
       "1                  RUMAH BARU DEKAT AL AZHAR DAN UGM     Jombor, Sleman  3.0   \n",
       "2  RUMAH ASRI DAN SEJUK DI BERBAH SLEMAN DEKAT PA...     Berbah, Sleman  2.0   \n",
       "3  Rumah Murah 5 Menit Dari Candi Prambanan Tersi...  Prambanan, Sleman  3.0   \n",
       "4          Rumah Murah Cicilan 1jt Di Moyudan Sleman    Moyudan, Sleman  2.0   \n",
       "\n",
       "   bath  carport surface_area building_area  \n",
       "0   3.0      2.0       120 m²        110 m²  \n",
       "1   2.0      1.0       102 m²        126 m²  \n",
       "2   2.0      1.0       100 m²        100 m²  \n",
       "3   1.0      1.0       109 m²         67 m²  \n",
       "4   1.0      1.0        60 m²         30 m²  "
      ]
     },
     "execution_count": 64,
     "metadata": {},
     "output_type": "execute_result"
    }
   ],
   "source": [
    "df = pd.read_csv(\"rumah123_yogya_unfiltered.csv\")\n",
    "df.head()"
   ]
  },
  {
   "cell_type": "code",
   "execution_count": 65,
   "metadata": {},
   "outputs": [
    {
     "data": {
      "text/plain": [
       "(2020, 9)"
      ]
     },
     "execution_count": 65,
     "metadata": {},
     "output_type": "execute_result"
    }
   ],
   "source": [
    "df.shape"
   ]
  },
  {
   "cell_type": "markdown",
   "metadata": {},
   "source": [
    "# Cleaning data"
   ]
  },
  {
   "cell_type": "code",
   "execution_count": 66,
   "metadata": {},
   "outputs": [
    {
     "data": {
      "text/plain": [
       "price                 0\n",
       "nav-link              0\n",
       "description           0\n",
       "listing-location      0\n",
       "bed                  19\n",
       "bath                 21\n",
       "carport             307\n",
       "surface_area          1\n",
       "building_area         1\n",
       "dtype: int64"
      ]
     },
     "execution_count": 66,
     "metadata": {},
     "output_type": "execute_result"
    }
   ],
   "source": [
    "df.isna().sum()"
   ]
  },
  {
   "cell_type": "markdown",
   "metadata": {},
   "source": [
    "## Missing value handle"
   ]
  },
  {
   "cell_type": "code",
   "execution_count": 67,
   "metadata": {},
   "outputs": [
    {
     "data": {
      "text/plain": [
       "(price                 0\n",
       " nav-link              0\n",
       " description           0\n",
       " listing-location      0\n",
       " bed                   0\n",
       " bath                  0\n",
       " carport             285\n",
       " surface_area          0\n",
       " building_area         0\n",
       " dtype: int64,\n",
       " (1998, 9))"
      ]
     },
     "execution_count": 67,
     "metadata": {},
     "output_type": "execute_result"
    }
   ],
   "source": [
    "df = df.dropna(subset=['bed', 'bath', 'surface_area', 'building_area'])\n",
    "df.isna().sum(), df.shape"
   ]
  },
  {
   "cell_type": "code",
   "execution_count": 68,
   "metadata": {},
   "outputs": [
    {
     "data": {
      "text/plain": [
       "(price               0\n",
       " nav-link            0\n",
       " description         0\n",
       " listing-location    0\n",
       " bed                 0\n",
       " bath                0\n",
       " carport             0\n",
       " surface_area        0\n",
       " building_area       0\n",
       " dtype: int64,\n",
       " (1998, 9))"
      ]
     },
     "execution_count": 68,
     "metadata": {},
     "output_type": "execute_result"
    }
   ],
   "source": [
    "df['carport'] = df['carport'].fillna(0)\n",
    "df.isna().sum(), df.shape"
   ]
  },
  {
   "cell_type": "markdown",
   "metadata": {},
   "source": [
    "Delete space"
   ]
  },
  {
   "cell_type": "code",
   "execution_count": 69,
   "metadata": {},
   "outputs": [],
   "source": [
    "df['listing-location'] = [re.sub(r'\\s+', ' ', i).strip() for i in df['listing-location']]"
   ]
  },
  {
   "cell_type": "code",
   "execution_count": 70,
   "metadata": {},
   "outputs": [
    {
     "data": {
      "text/plain": [
       "array(['Ngaglik, Sleman', 'Jombor, Sleman', 'Berbah, Sleman',\n",
       "       'Prambanan, Sleman', 'Moyudan, Sleman', 'Depok, Sleman',\n",
       "       'Gamping, Sleman', 'Kaliurang, Yogyakarta', 'Sedayu, Bantul',\n",
       "       'Ngemplak, Sleman', 'Piyungan, Bantul', 'Umbulharjo, Yogyakarta',\n",
       "       'Godean, Sleman', 'Mlati, Sleman', 'Condong Catur, Sleman',\n",
       "       'Kasihan, Bantul', 'Bantul, Bantul', 'Sleman, Sleman',\n",
       "       'Sewon, Bantul', 'Kalasan, Sleman', 'Plered, Bantul',\n",
       "       'Sleman, Yogyakarta', 'Maguwoharjo, Yogyakarta',\n",
       "       'Demangan, Yogyakarta', 'Purwomartani , Sleman', 'Minggir, Sleman',\n",
       "       'Gondokusuman, Yogyakarta', 'Kotagede, Yogyakarta', 'Turi, Sleman',\n",
       "       'Kaliurang, Sleman', 'Pogung, Yogyakarta',\n",
       "       'Mantrijeron, Yogyakarta', 'Cebongan, Sleman',\n",
       "       'Pakualaman, Yogyakarta', 'Bantul, Yogyakarta', 'Sayegan, Sleman',\n",
       "       'Danurejan, Yogyakarta', 'Wirobrajan, Yogyakarta',\n",
       "       'Banguntapan, Bantul', 'Seturan, Yogyakarta', 'Pakem, Sleman',\n",
       "       'Caturtunggal, Sleman', 'Tegalrejo, Yogyakarta',\n",
       "       'Wonosari, Gunung Kidul', 'Jetis, Bantul', 'Pajangan, Bantul',\n",
       "       'Kraton, Yogyakarta', 'Cebongan, Yogyakarta', 'Imogiri , Bantul',\n",
       "       'Sentolo, Kulon Progo', 'Playen, Gunung Kidul', 'Tempel, Sleman',\n",
       "       'Kulonprogo, Kulon Progo', 'Mergangsan, Yogyakarta',\n",
       "       'Wates, Kulon Progo', 'Gedong Tengen, Yogyakarta',\n",
       "       'Gondomanan, Yogyakarta', 'Jetis, Yogyakarta', 'Sidoarum , Sleman',\n",
       "       'Nanggulan, Kulon Progo', 'Pandak, Bantul',\n",
       "       'Bambanglipuro, Bantul', 'Imogiri, Yogyakarta',\n",
       "       'Nologaten, Yogyakarta', 'Caturtunggal, Yogyakarta',\n",
       "       'Kulonprogo, Yogyakarta', 'Purwomartani, Yogyakarta',\n",
       "       'Sekip, Yogyakarta', 'Karangmojo, Gunung Kidul'], dtype=object)"
      ]
     },
     "execution_count": 70,
     "metadata": {},
     "output_type": "execute_result"
    }
   ],
   "source": [
    "df['listing-location'].unique()"
   ]
  },
  {
   "cell_type": "code",
   "execution_count": 71,
   "metadata": {},
   "outputs": [
    {
     "data": {
      "text/html": [
       "<div>\n",
       "<style scoped>\n",
       "    .dataframe tbody tr th:only-of-type {\n",
       "        vertical-align: middle;\n",
       "    }\n",
       "\n",
       "    .dataframe tbody tr th {\n",
       "        vertical-align: top;\n",
       "    }\n",
       "\n",
       "    .dataframe thead th {\n",
       "        text-align: right;\n",
       "    }\n",
       "</style>\n",
       "<table border=\"1\" class=\"dataframe\">\n",
       "  <thead>\n",
       "    <tr style=\"text-align: right;\">\n",
       "      <th></th>\n",
       "      <th>price</th>\n",
       "      <th>listing-location</th>\n",
       "      <th>bed</th>\n",
       "      <th>bath</th>\n",
       "      <th>carport</th>\n",
       "      <th>surface_area</th>\n",
       "      <th>building_area</th>\n",
       "    </tr>\n",
       "  </thead>\n",
       "  <tbody>\n",
       "    <tr>\n",
       "      <th>0</th>\n",
       "      <td>Rp 1,79 Miliar</td>\n",
       "      <td>Ngaglik, Sleman</td>\n",
       "      <td>3.0</td>\n",
       "      <td>3.0</td>\n",
       "      <td>2.0</td>\n",
       "      <td>120 m²</td>\n",
       "      <td>110 m²</td>\n",
       "    </tr>\n",
       "    <tr>\n",
       "      <th>1</th>\n",
       "      <td>Rp 170 Juta</td>\n",
       "      <td>Jombor, Sleman</td>\n",
       "      <td>3.0</td>\n",
       "      <td>2.0</td>\n",
       "      <td>1.0</td>\n",
       "      <td>102 m²</td>\n",
       "      <td>126 m²</td>\n",
       "    </tr>\n",
       "    <tr>\n",
       "      <th>2</th>\n",
       "      <td>Rp 695 Juta</td>\n",
       "      <td>Berbah, Sleman</td>\n",
       "      <td>2.0</td>\n",
       "      <td>2.0</td>\n",
       "      <td>1.0</td>\n",
       "      <td>100 m²</td>\n",
       "      <td>100 m²</td>\n",
       "    </tr>\n",
       "    <tr>\n",
       "      <th>3</th>\n",
       "      <td>Rp 560 Juta</td>\n",
       "      <td>Prambanan, Sleman</td>\n",
       "      <td>3.0</td>\n",
       "      <td>1.0</td>\n",
       "      <td>1.0</td>\n",
       "      <td>109 m²</td>\n",
       "      <td>67 m²</td>\n",
       "    </tr>\n",
       "    <tr>\n",
       "      <th>4</th>\n",
       "      <td>Rp 200 Juta</td>\n",
       "      <td>Moyudan, Sleman</td>\n",
       "      <td>2.0</td>\n",
       "      <td>1.0</td>\n",
       "      <td>1.0</td>\n",
       "      <td>60 m²</td>\n",
       "      <td>30 m²</td>\n",
       "    </tr>\n",
       "  </tbody>\n",
       "</table>\n",
       "</div>"
      ],
      "text/plain": [
       "            price   listing-location  bed  bath  carport surface_area  \\\n",
       "0  Rp 1,79 Miliar    Ngaglik, Sleman  3.0   3.0      2.0       120 m²   \n",
       "1     Rp 170 Juta     Jombor, Sleman  3.0   2.0      1.0       102 m²   \n",
       "2     Rp 695 Juta     Berbah, Sleman  2.0   2.0      1.0       100 m²   \n",
       "3     Rp 560 Juta  Prambanan, Sleman  3.0   1.0      1.0       109 m²   \n",
       "4     Rp 200 Juta    Moyudan, Sleman  2.0   1.0      1.0        60 m²   \n",
       "\n",
       "  building_area  \n",
       "0        110 m²  \n",
       "1        126 m²  \n",
       "2        100 m²  \n",
       "3         67 m²  \n",
       "4         30 m²  "
      ]
     },
     "execution_count": 71,
     "metadata": {},
     "output_type": "execute_result"
    }
   ],
   "source": [
    "df = df[['price', 'listing-location', 'bed', 'bath', 'carport', 'surface_area', 'building_area']]\n",
    "df.head()"
   ]
  },
  {
   "cell_type": "code",
   "execution_count": 72,
   "metadata": {},
   "outputs": [
    {
     "data": {
      "text/plain": [
       "price                object\n",
       "listing-location     object\n",
       "bed                 float64\n",
       "bath                float64\n",
       "carport             float64\n",
       "surface_area         object\n",
       "building_area        object\n",
       "dtype: object"
      ]
     },
     "execution_count": 72,
     "metadata": {},
     "output_type": "execute_result"
    }
   ],
   "source": [
    "df.dtypes"
   ]
  },
  {
   "cell_type": "markdown",
   "metadata": {},
   "source": [
    "## Price to numeric"
   ]
  },
  {
   "cell_type": "code",
   "execution_count": 73,
   "metadata": {},
   "outputs": [],
   "source": [
    "def convert_price(price_str):\n",
    "    price_str = price_str.replace(\"Rp \", \"\")\n",
    "\n",
    "    if \"Miliar\" in price_str:\n",
    "        number = float(re.sub(\"[^0-9,]\", \"\", price_str).replace(\",\",\".\")) * 1_000_000_000\n",
    "    elif \"Juta\" in price_str:\n",
    "        number = float(re.sub(\"[^0-9,]\", \"\", price_str).replace(\",\",\".\")) * 1_000_000\n",
    "    else:\n",
    "        number = float(re.sub(\"[^0-9,]\", \"\", price_str).replace(\",\",\".\"))\n",
    "\n",
    "    return int(number)"
   ]
  },
  {
   "cell_type": "code",
   "execution_count": 74,
   "metadata": {},
   "outputs": [
    {
     "data": {
      "text/html": [
       "<div>\n",
       "<style scoped>\n",
       "    .dataframe tbody tr th:only-of-type {\n",
       "        vertical-align: middle;\n",
       "    }\n",
       "\n",
       "    .dataframe tbody tr th {\n",
       "        vertical-align: top;\n",
       "    }\n",
       "\n",
       "    .dataframe thead th {\n",
       "        text-align: right;\n",
       "    }\n",
       "</style>\n",
       "<table border=\"1\" class=\"dataframe\">\n",
       "  <thead>\n",
       "    <tr style=\"text-align: right;\">\n",
       "      <th></th>\n",
       "      <th>price</th>\n",
       "      <th>listing-location</th>\n",
       "      <th>bed</th>\n",
       "      <th>bath</th>\n",
       "      <th>carport</th>\n",
       "      <th>surface_area</th>\n",
       "      <th>building_area</th>\n",
       "    </tr>\n",
       "  </thead>\n",
       "  <tbody>\n",
       "    <tr>\n",
       "      <th>0</th>\n",
       "      <td>1790000000</td>\n",
       "      <td>Ngaglik, Sleman</td>\n",
       "      <td>3.0</td>\n",
       "      <td>3.0</td>\n",
       "      <td>2.0</td>\n",
       "      <td>120 m²</td>\n",
       "      <td>110 m²</td>\n",
       "    </tr>\n",
       "    <tr>\n",
       "      <th>1</th>\n",
       "      <td>170000000</td>\n",
       "      <td>Jombor, Sleman</td>\n",
       "      <td>3.0</td>\n",
       "      <td>2.0</td>\n",
       "      <td>1.0</td>\n",
       "      <td>102 m²</td>\n",
       "      <td>126 m²</td>\n",
       "    </tr>\n",
       "    <tr>\n",
       "      <th>2</th>\n",
       "      <td>695000000</td>\n",
       "      <td>Berbah, Sleman</td>\n",
       "      <td>2.0</td>\n",
       "      <td>2.0</td>\n",
       "      <td>1.0</td>\n",
       "      <td>100 m²</td>\n",
       "      <td>100 m²</td>\n",
       "    </tr>\n",
       "    <tr>\n",
       "      <th>3</th>\n",
       "      <td>560000000</td>\n",
       "      <td>Prambanan, Sleman</td>\n",
       "      <td>3.0</td>\n",
       "      <td>1.0</td>\n",
       "      <td>1.0</td>\n",
       "      <td>109 m²</td>\n",
       "      <td>67 m²</td>\n",
       "    </tr>\n",
       "    <tr>\n",
       "      <th>4</th>\n",
       "      <td>200000000</td>\n",
       "      <td>Moyudan, Sleman</td>\n",
       "      <td>2.0</td>\n",
       "      <td>1.0</td>\n",
       "      <td>1.0</td>\n",
       "      <td>60 m²</td>\n",
       "      <td>30 m²</td>\n",
       "    </tr>\n",
       "  </tbody>\n",
       "</table>\n",
       "</div>"
      ],
      "text/plain": [
       "        price   listing-location  bed  bath  carport surface_area  \\\n",
       "0  1790000000    Ngaglik, Sleman  3.0   3.0      2.0       120 m²   \n",
       "1   170000000     Jombor, Sleman  3.0   2.0      1.0       102 m²   \n",
       "2   695000000     Berbah, Sleman  2.0   2.0      1.0       100 m²   \n",
       "3   560000000  Prambanan, Sleman  3.0   1.0      1.0       109 m²   \n",
       "4   200000000    Moyudan, Sleman  2.0   1.0      1.0        60 m²   \n",
       "\n",
       "  building_area  \n",
       "0        110 m²  \n",
       "1        126 m²  \n",
       "2        100 m²  \n",
       "3         67 m²  \n",
       "4         30 m²  "
      ]
     },
     "execution_count": 74,
     "metadata": {},
     "output_type": "execute_result"
    }
   ],
   "source": [
    "df['price'] = df['price'].apply(convert_price)\n",
    "df.head()"
   ]
  },
  {
   "cell_type": "code",
   "execution_count": 75,
   "metadata": {},
   "outputs": [
    {
     "data": {
      "text/plain": [
       "price                 int64\n",
       "listing-location     object\n",
       "bed                 float64\n",
       "bath                float64\n",
       "carport             float64\n",
       "surface_area         object\n",
       "building_area        object\n",
       "dtype: object"
      ]
     },
     "execution_count": 75,
     "metadata": {},
     "output_type": "execute_result"
    }
   ],
   "source": [
    "df.dtypes"
   ]
  },
  {
   "cell_type": "markdown",
   "metadata": {},
   "source": [
    "## Convert bed, bath, and carport to int"
   ]
  },
  {
   "cell_type": "code",
   "execution_count": 76,
   "metadata": {},
   "outputs": [],
   "source": [
    "def convert_to_int(data):\n",
    "    data = data.astype(int)\n",
    "    return data"
   ]
  },
  {
   "cell_type": "code",
   "execution_count": 77,
   "metadata": {},
   "outputs": [
    {
     "data": {
      "text/html": [
       "<div>\n",
       "<style scoped>\n",
       "    .dataframe tbody tr th:only-of-type {\n",
       "        vertical-align: middle;\n",
       "    }\n",
       "\n",
       "    .dataframe tbody tr th {\n",
       "        vertical-align: top;\n",
       "    }\n",
       "\n",
       "    .dataframe thead th {\n",
       "        text-align: right;\n",
       "    }\n",
       "</style>\n",
       "<table border=\"1\" class=\"dataframe\">\n",
       "  <thead>\n",
       "    <tr style=\"text-align: right;\">\n",
       "      <th></th>\n",
       "      <th>price</th>\n",
       "      <th>listing-location</th>\n",
       "      <th>bed</th>\n",
       "      <th>bath</th>\n",
       "      <th>carport</th>\n",
       "      <th>surface_area</th>\n",
       "      <th>building_area</th>\n",
       "    </tr>\n",
       "  </thead>\n",
       "  <tbody>\n",
       "    <tr>\n",
       "      <th>0</th>\n",
       "      <td>1790000000</td>\n",
       "      <td>Ngaglik, Sleman</td>\n",
       "      <td>3</td>\n",
       "      <td>3</td>\n",
       "      <td>2</td>\n",
       "      <td>120 m²</td>\n",
       "      <td>110 m²</td>\n",
       "    </tr>\n",
       "    <tr>\n",
       "      <th>1</th>\n",
       "      <td>170000000</td>\n",
       "      <td>Jombor, Sleman</td>\n",
       "      <td>3</td>\n",
       "      <td>2</td>\n",
       "      <td>1</td>\n",
       "      <td>102 m²</td>\n",
       "      <td>126 m²</td>\n",
       "    </tr>\n",
       "    <tr>\n",
       "      <th>2</th>\n",
       "      <td>695000000</td>\n",
       "      <td>Berbah, Sleman</td>\n",
       "      <td>2</td>\n",
       "      <td>2</td>\n",
       "      <td>1</td>\n",
       "      <td>100 m²</td>\n",
       "      <td>100 m²</td>\n",
       "    </tr>\n",
       "    <tr>\n",
       "      <th>3</th>\n",
       "      <td>560000000</td>\n",
       "      <td>Prambanan, Sleman</td>\n",
       "      <td>3</td>\n",
       "      <td>1</td>\n",
       "      <td>1</td>\n",
       "      <td>109 m²</td>\n",
       "      <td>67 m²</td>\n",
       "    </tr>\n",
       "    <tr>\n",
       "      <th>4</th>\n",
       "      <td>200000000</td>\n",
       "      <td>Moyudan, Sleman</td>\n",
       "      <td>2</td>\n",
       "      <td>1</td>\n",
       "      <td>1</td>\n",
       "      <td>60 m²</td>\n",
       "      <td>30 m²</td>\n",
       "    </tr>\n",
       "  </tbody>\n",
       "</table>\n",
       "</div>"
      ],
      "text/plain": [
       "        price   listing-location  bed  bath  carport surface_area  \\\n",
       "0  1790000000    Ngaglik, Sleman    3     3        2       120 m²   \n",
       "1   170000000     Jombor, Sleman    3     2        1       102 m²   \n",
       "2   695000000     Berbah, Sleman    2     2        1       100 m²   \n",
       "3   560000000  Prambanan, Sleman    3     1        1       109 m²   \n",
       "4   200000000    Moyudan, Sleman    2     1        1        60 m²   \n",
       "\n",
       "  building_area  \n",
       "0        110 m²  \n",
       "1        126 m²  \n",
       "2        100 m²  \n",
       "3         67 m²  \n",
       "4         30 m²  "
      ]
     },
     "execution_count": 77,
     "metadata": {},
     "output_type": "execute_result"
    }
   ],
   "source": [
    "df[['bed', 'bath', 'carport']] = df[['bed', 'bath', 'carport']].apply(convert_to_int)\n",
    "df.head()"
   ]
  },
  {
   "cell_type": "code",
   "execution_count": 78,
   "metadata": {},
   "outputs": [],
   "source": [
    "def convert_area(area_str):\n",
    "    return int(area_str.replace(\"m²\", \"\").strip())"
   ]
  },
  {
   "cell_type": "code",
   "execution_count": 79,
   "metadata": {},
   "outputs": [
    {
     "data": {
      "text/plain": [
       "(        price   listing-location  bed  bath  carport  surface_area  \\\n",
       " 0  1790000000    Ngaglik, Sleman    3     3        2           120   \n",
       " 1   170000000     Jombor, Sleman    3     2        1           102   \n",
       " 2   695000000     Berbah, Sleman    2     2        1           100   \n",
       " 3   560000000  Prambanan, Sleman    3     1        1           109   \n",
       " 4   200000000    Moyudan, Sleman    2     1        1            60   \n",
       " \n",
       "    building_area  \n",
       " 0            110  \n",
       " 1            126  \n",
       " 2            100  \n",
       " 3             67  \n",
       " 4             30  ,\n",
       " price                int64\n",
       " listing-location    object\n",
       " bed                  int64\n",
       " bath                 int64\n",
       " carport              int64\n",
       " surface_area         int64\n",
       " building_area        int64\n",
       " dtype: object)"
      ]
     },
     "execution_count": 79,
     "metadata": {},
     "output_type": "execute_result"
    }
   ],
   "source": [
    "df['surface_area'] = df['surface_area'].apply(convert_area)\n",
    "df['building_area'] = df['building_area'].apply(convert_area)\n",
    "df.head(), df.dtypes"
   ]
  },
  {
   "cell_type": "markdown",
   "metadata": {},
   "source": [
    "## encoding listing-location"
   ]
  },
  {
   "cell_type": "code",
   "execution_count": 81,
   "metadata": {},
   "outputs": [
    {
     "data": {
      "text/html": [
       "<div>\n",
       "<style scoped>\n",
       "    .dataframe tbody tr th:only-of-type {\n",
       "        vertical-align: middle;\n",
       "    }\n",
       "\n",
       "    .dataframe tbody tr th {\n",
       "        vertical-align: top;\n",
       "    }\n",
       "\n",
       "    .dataframe thead th {\n",
       "        text-align: right;\n",
       "    }\n",
       "</style>\n",
       "<table border=\"1\" class=\"dataframe\">\n",
       "  <thead>\n",
       "    <tr style=\"text-align: right;\">\n",
       "      <th></th>\n",
       "      <th>price</th>\n",
       "      <th>bed</th>\n",
       "      <th>bath</th>\n",
       "      <th>carport</th>\n",
       "      <th>surface_area</th>\n",
       "      <th>building_area</th>\n",
       "      <th>listing-location_Banguntapan, Bantul</th>\n",
       "      <th>listing-location_Bantul, Bantul</th>\n",
       "      <th>listing-location_Bantul, Yogyakarta</th>\n",
       "      <th>listing-location_Berbah, Sleman</th>\n",
       "      <th>...</th>\n",
       "      <th>listing-location_Sidoarum , Sleman</th>\n",
       "      <th>listing-location_Sleman, Sleman</th>\n",
       "      <th>listing-location_Sleman, Yogyakarta</th>\n",
       "      <th>listing-location_Tegalrejo, Yogyakarta</th>\n",
       "      <th>listing-location_Tempel, Sleman</th>\n",
       "      <th>listing-location_Turi, Sleman</th>\n",
       "      <th>listing-location_Umbulharjo, Yogyakarta</th>\n",
       "      <th>listing-location_Wates, Kulon Progo</th>\n",
       "      <th>listing-location_Wirobrajan, Yogyakarta</th>\n",
       "      <th>listing-location_Wonosari, Gunung Kidul</th>\n",
       "    </tr>\n",
       "  </thead>\n",
       "  <tbody>\n",
       "    <tr>\n",
       "      <th>0</th>\n",
       "      <td>1790000000</td>\n",
       "      <td>3</td>\n",
       "      <td>3</td>\n",
       "      <td>2</td>\n",
       "      <td>120</td>\n",
       "      <td>110</td>\n",
       "      <td>False</td>\n",
       "      <td>False</td>\n",
       "      <td>False</td>\n",
       "      <td>False</td>\n",
       "      <td>...</td>\n",
       "      <td>False</td>\n",
       "      <td>False</td>\n",
       "      <td>False</td>\n",
       "      <td>False</td>\n",
       "      <td>False</td>\n",
       "      <td>False</td>\n",
       "      <td>False</td>\n",
       "      <td>False</td>\n",
       "      <td>False</td>\n",
       "      <td>False</td>\n",
       "    </tr>\n",
       "    <tr>\n",
       "      <th>1</th>\n",
       "      <td>170000000</td>\n",
       "      <td>3</td>\n",
       "      <td>2</td>\n",
       "      <td>1</td>\n",
       "      <td>102</td>\n",
       "      <td>126</td>\n",
       "      <td>False</td>\n",
       "      <td>False</td>\n",
       "      <td>False</td>\n",
       "      <td>False</td>\n",
       "      <td>...</td>\n",
       "      <td>False</td>\n",
       "      <td>False</td>\n",
       "      <td>False</td>\n",
       "      <td>False</td>\n",
       "      <td>False</td>\n",
       "      <td>False</td>\n",
       "      <td>False</td>\n",
       "      <td>False</td>\n",
       "      <td>False</td>\n",
       "      <td>False</td>\n",
       "    </tr>\n",
       "    <tr>\n",
       "      <th>2</th>\n",
       "      <td>695000000</td>\n",
       "      <td>2</td>\n",
       "      <td>2</td>\n",
       "      <td>1</td>\n",
       "      <td>100</td>\n",
       "      <td>100</td>\n",
       "      <td>False</td>\n",
       "      <td>False</td>\n",
       "      <td>False</td>\n",
       "      <td>True</td>\n",
       "      <td>...</td>\n",
       "      <td>False</td>\n",
       "      <td>False</td>\n",
       "      <td>False</td>\n",
       "      <td>False</td>\n",
       "      <td>False</td>\n",
       "      <td>False</td>\n",
       "      <td>False</td>\n",
       "      <td>False</td>\n",
       "      <td>False</td>\n",
       "      <td>False</td>\n",
       "    </tr>\n",
       "    <tr>\n",
       "      <th>3</th>\n",
       "      <td>560000000</td>\n",
       "      <td>3</td>\n",
       "      <td>1</td>\n",
       "      <td>1</td>\n",
       "      <td>109</td>\n",
       "      <td>67</td>\n",
       "      <td>False</td>\n",
       "      <td>False</td>\n",
       "      <td>False</td>\n",
       "      <td>False</td>\n",
       "      <td>...</td>\n",
       "      <td>False</td>\n",
       "      <td>False</td>\n",
       "      <td>False</td>\n",
       "      <td>False</td>\n",
       "      <td>False</td>\n",
       "      <td>False</td>\n",
       "      <td>False</td>\n",
       "      <td>False</td>\n",
       "      <td>False</td>\n",
       "      <td>False</td>\n",
       "    </tr>\n",
       "    <tr>\n",
       "      <th>4</th>\n",
       "      <td>200000000</td>\n",
       "      <td>2</td>\n",
       "      <td>1</td>\n",
       "      <td>1</td>\n",
       "      <td>60</td>\n",
       "      <td>30</td>\n",
       "      <td>False</td>\n",
       "      <td>False</td>\n",
       "      <td>False</td>\n",
       "      <td>False</td>\n",
       "      <td>...</td>\n",
       "      <td>False</td>\n",
       "      <td>False</td>\n",
       "      <td>False</td>\n",
       "      <td>False</td>\n",
       "      <td>False</td>\n",
       "      <td>False</td>\n",
       "      <td>False</td>\n",
       "      <td>False</td>\n",
       "      <td>False</td>\n",
       "      <td>False</td>\n",
       "    </tr>\n",
       "  </tbody>\n",
       "</table>\n",
       "<p>5 rows × 74 columns</p>\n",
       "</div>"
      ],
      "text/plain": [
       "        price  bed  bath  carport  surface_area  building_area  \\\n",
       "0  1790000000    3     3        2           120            110   \n",
       "1   170000000    3     2        1           102            126   \n",
       "2   695000000    2     2        1           100            100   \n",
       "3   560000000    3     1        1           109             67   \n",
       "4   200000000    2     1        1            60             30   \n",
       "\n",
       "   listing-location_Banguntapan, Bantul  listing-location_Bantul, Bantul  \\\n",
       "0                                 False                            False   \n",
       "1                                 False                            False   \n",
       "2                                 False                            False   \n",
       "3                                 False                            False   \n",
       "4                                 False                            False   \n",
       "\n",
       "   listing-location_Bantul, Yogyakarta  listing-location_Berbah, Sleman  ...  \\\n",
       "0                                False                            False  ...   \n",
       "1                                False                            False  ...   \n",
       "2                                False                             True  ...   \n",
       "3                                False                            False  ...   \n",
       "4                                False                            False  ...   \n",
       "\n",
       "   listing-location_Sidoarum , Sleman  listing-location_Sleman, Sleman  \\\n",
       "0                               False                            False   \n",
       "1                               False                            False   \n",
       "2                               False                            False   \n",
       "3                               False                            False   \n",
       "4                               False                            False   \n",
       "\n",
       "   listing-location_Sleman, Yogyakarta  \\\n",
       "0                                False   \n",
       "1                                False   \n",
       "2                                False   \n",
       "3                                False   \n",
       "4                                False   \n",
       "\n",
       "   listing-location_Tegalrejo, Yogyakarta  listing-location_Tempel, Sleman  \\\n",
       "0                                   False                            False   \n",
       "1                                   False                            False   \n",
       "2                                   False                            False   \n",
       "3                                   False                            False   \n",
       "4                                   False                            False   \n",
       "\n",
       "   listing-location_Turi, Sleman  listing-location_Umbulharjo, Yogyakarta  \\\n",
       "0                          False                                    False   \n",
       "1                          False                                    False   \n",
       "2                          False                                    False   \n",
       "3                          False                                    False   \n",
       "4                          False                                    False   \n",
       "\n",
       "   listing-location_Wates, Kulon Progo  \\\n",
       "0                                False   \n",
       "1                                False   \n",
       "2                                False   \n",
       "3                                False   \n",
       "4                                False   \n",
       "\n",
       "   listing-location_Wirobrajan, Yogyakarta  \\\n",
       "0                                    False   \n",
       "1                                    False   \n",
       "2                                    False   \n",
       "3                                    False   \n",
       "4                                    False   \n",
       "\n",
       "   listing-location_Wonosari, Gunung Kidul  \n",
       "0                                    False  \n",
       "1                                    False  \n",
       "2                                    False  \n",
       "3                                    False  \n",
       "4                                    False  \n",
       "\n",
       "[5 rows x 74 columns]"
      ]
     },
     "execution_count": 81,
     "metadata": {},
     "output_type": "execute_result"
    }
   ],
   "source": [
    "df = pd.get_dummies(df, columns=['listing-location'], drop_first=True)\n",
    "df.head()"
   ]
  },
  {
   "cell_type": "markdown",
   "metadata": {},
   "source": [
    "# Modeling"
   ]
  },
  {
   "cell_type": "code",
   "execution_count": 82,
   "metadata": {},
   "outputs": [],
   "source": [
    "from sklearn.model_selection import train_test_split\n",
    "from sklearn.preprocessing import OneHotEncoder\n",
    "from sklearn.linear_model import LinearRegression\n",
    "from sklearn.metrics import mean_squared_error"
   ]
  },
  {
   "cell_type": "code",
   "execution_count": 85,
   "metadata": {},
   "outputs": [
    {
     "data": {
      "text/plain": [
       "((1598, 73), (400, 73))"
      ]
     },
     "execution_count": 85,
     "metadata": {},
     "output_type": "execute_result"
    }
   ],
   "source": [
    "X = df.drop('price', axis=1)\n",
    "y = df['price']\n",
    "\n",
    "X_train, X_test, y_train, y_test = train_test_split(X, y, test_size=0.2, random_state=42)\n",
    "X_train.shape, X_test.shape"
   ]
  },
  {
   "cell_type": "code",
   "execution_count": 86,
   "metadata": {},
   "outputs": [
    {
     "data": {
      "text/html": [
       "<style>#sk-container-id-1 {color: black;}#sk-container-id-1 pre{padding: 0;}#sk-container-id-1 div.sk-toggleable {background-color: white;}#sk-container-id-1 label.sk-toggleable__label {cursor: pointer;display: block;width: 100%;margin-bottom: 0;padding: 0.3em;box-sizing: border-box;text-align: center;}#sk-container-id-1 label.sk-toggleable__label-arrow:before {content: \"▸\";float: left;margin-right: 0.25em;color: #696969;}#sk-container-id-1 label.sk-toggleable__label-arrow:hover:before {color: black;}#sk-container-id-1 div.sk-estimator:hover label.sk-toggleable__label-arrow:before {color: black;}#sk-container-id-1 div.sk-toggleable__content {max-height: 0;max-width: 0;overflow: hidden;text-align: left;background-color: #f0f8ff;}#sk-container-id-1 div.sk-toggleable__content pre {margin: 0.2em;color: black;border-radius: 0.25em;background-color: #f0f8ff;}#sk-container-id-1 input.sk-toggleable__control:checked~div.sk-toggleable__content {max-height: 200px;max-width: 100%;overflow: auto;}#sk-container-id-1 input.sk-toggleable__control:checked~label.sk-toggleable__label-arrow:before {content: \"▾\";}#sk-container-id-1 div.sk-estimator input.sk-toggleable__control:checked~label.sk-toggleable__label {background-color: #d4ebff;}#sk-container-id-1 div.sk-label input.sk-toggleable__control:checked~label.sk-toggleable__label {background-color: #d4ebff;}#sk-container-id-1 input.sk-hidden--visually {border: 0;clip: rect(1px 1px 1px 1px);clip: rect(1px, 1px, 1px, 1px);height: 1px;margin: -1px;overflow: hidden;padding: 0;position: absolute;width: 1px;}#sk-container-id-1 div.sk-estimator {font-family: monospace;background-color: #f0f8ff;border: 1px dotted black;border-radius: 0.25em;box-sizing: border-box;margin-bottom: 0.5em;}#sk-container-id-1 div.sk-estimator:hover {background-color: #d4ebff;}#sk-container-id-1 div.sk-parallel-item::after {content: \"\";width: 100%;border-bottom: 1px solid gray;flex-grow: 1;}#sk-container-id-1 div.sk-label:hover label.sk-toggleable__label {background-color: #d4ebff;}#sk-container-id-1 div.sk-serial::before {content: \"\";position: absolute;border-left: 1px solid gray;box-sizing: border-box;top: 0;bottom: 0;left: 50%;z-index: 0;}#sk-container-id-1 div.sk-serial {display: flex;flex-direction: column;align-items: center;background-color: white;padding-right: 0.2em;padding-left: 0.2em;position: relative;}#sk-container-id-1 div.sk-item {position: relative;z-index: 1;}#sk-container-id-1 div.sk-parallel {display: flex;align-items: stretch;justify-content: center;background-color: white;position: relative;}#sk-container-id-1 div.sk-item::before, #sk-container-id-1 div.sk-parallel-item::before {content: \"\";position: absolute;border-left: 1px solid gray;box-sizing: border-box;top: 0;bottom: 0;left: 50%;z-index: -1;}#sk-container-id-1 div.sk-parallel-item {display: flex;flex-direction: column;z-index: 1;position: relative;background-color: white;}#sk-container-id-1 div.sk-parallel-item:first-child::after {align-self: flex-end;width: 50%;}#sk-container-id-1 div.sk-parallel-item:last-child::after {align-self: flex-start;width: 50%;}#sk-container-id-1 div.sk-parallel-item:only-child::after {width: 0;}#sk-container-id-1 div.sk-dashed-wrapped {border: 1px dashed gray;margin: 0 0.4em 0.5em 0.4em;box-sizing: border-box;padding-bottom: 0.4em;background-color: white;}#sk-container-id-1 div.sk-label label {font-family: monospace;font-weight: bold;display: inline-block;line-height: 1.2em;}#sk-container-id-1 div.sk-label-container {text-align: center;}#sk-container-id-1 div.sk-container {/* jupyter's `normalize.less` sets `[hidden] { display: none; }` but bootstrap.min.css set `[hidden] { display: none !important; }` so we also need the `!important` here to be able to override the default hidden behavior on the sphinx rendered scikit-learn.org. See: https://github.com/scikit-learn/scikit-learn/issues/21755 */display: inline-block !important;position: relative;}#sk-container-id-1 div.sk-text-repr-fallback {display: none;}</style><div id=\"sk-container-id-1\" class=\"sk-top-container\"><div class=\"sk-text-repr-fallback\"><pre>LinearRegression()</pre><b>In a Jupyter environment, please rerun this cell to show the HTML representation or trust the notebook. <br />On GitHub, the HTML representation is unable to render, please try loading this page with nbviewer.org.</b></div><div class=\"sk-container\" hidden><div class=\"sk-item\"><div class=\"sk-estimator sk-toggleable\"><input class=\"sk-toggleable__control sk-hidden--visually\" id=\"sk-estimator-id-1\" type=\"checkbox\" checked><label for=\"sk-estimator-id-1\" class=\"sk-toggleable__label sk-toggleable__label-arrow\">LinearRegression</label><div class=\"sk-toggleable__content\"><pre>LinearRegression()</pre></div></div></div></div></div>"
      ],
      "text/plain": [
       "LinearRegression()"
      ]
     },
     "execution_count": 86,
     "metadata": {},
     "output_type": "execute_result"
    }
   ],
   "source": [
    "model = LinearRegression()\n",
    "model.fit(X_train, y_train)"
   ]
  },
  {
   "cell_type": "code",
   "execution_count": 87,
   "metadata": {},
   "outputs": [],
   "source": [
    "y_pred = model.predict(X_test)"
   ]
  },
  {
   "cell_type": "code",
   "execution_count": 88,
   "metadata": {},
   "outputs": [
    {
     "name": "stdout",
     "output_type": "stream",
     "text": [
      "Mean Squared Error: 3.9339844460891295e+18\n"
     ]
    }
   ],
   "source": [
    "mse = mean_squared_error(y_test, y_pred)\n",
    "print(f\"Mean Squared Error: {mse}\")"
   ]
  },
  {
   "cell_type": "code",
   "execution_count": 90,
   "metadata": {},
   "outputs": [
    {
     "data": {
      "text/plain": [
       "['model.pkl']"
      ]
     },
     "execution_count": 90,
     "metadata": {},
     "output_type": "execute_result"
    }
   ],
   "source": [
    "import joblib\n",
    "\n",
    "joblib.dump(model, \"model.pkl\")"
   ]
  },
  {
   "cell_type": "code",
   "execution_count": 91,
   "metadata": {},
   "outputs": [],
   "source": [
    "new_data = {\n",
    "    'listing-location': [\"Kaliurang, Sleman\"],  # Input untuk fitur yang di-OHE\n",
    "    'bed': [2],\n",
    "    'bath': [1],\n",
    "    'carport': [1],\n",
    "    'surface_area': [100],\n",
    "    'building_area': [90]\n",
    "}\n",
    "\n",
    "# Membuat DataFrame dari input baru\n",
    "new_df = pd.DataFrame(new_data)\n",
    "\n",
    "new_df = pd.get_dummies(new_df, columns=['listing-location'])"
   ]
  },
  {
   "cell_type": "code",
   "execution_count": 100,
   "metadata": {},
   "outputs": [
    {
     "data": {
      "text/html": [
       "<div>\n",
       "<style scoped>\n",
       "    .dataframe tbody tr th:only-of-type {\n",
       "        vertical-align: middle;\n",
       "    }\n",
       "\n",
       "    .dataframe tbody tr th {\n",
       "        vertical-align: top;\n",
       "    }\n",
       "\n",
       "    .dataframe thead th {\n",
       "        text-align: right;\n",
       "    }\n",
       "</style>\n",
       "<table border=\"1\" class=\"dataframe\">\n",
       "  <thead>\n",
       "    <tr style=\"text-align: right;\">\n",
       "      <th></th>\n",
       "      <th>bed</th>\n",
       "      <th>bath</th>\n",
       "      <th>carport</th>\n",
       "      <th>surface_area</th>\n",
       "      <th>building_area</th>\n",
       "      <th>listing-location_Banguntapan, Bantul</th>\n",
       "      <th>listing-location_Bantul, Bantul</th>\n",
       "      <th>listing-location_Bantul, Yogyakarta</th>\n",
       "      <th>listing-location_Berbah, Sleman</th>\n",
       "      <th>listing-location_Caturtunggal, Sleman</th>\n",
       "      <th>...</th>\n",
       "      <th>listing-location_Sidoarum , Sleman</th>\n",
       "      <th>listing-location_Sleman, Sleman</th>\n",
       "      <th>listing-location_Sleman, Yogyakarta</th>\n",
       "      <th>listing-location_Tegalrejo, Yogyakarta</th>\n",
       "      <th>listing-location_Tempel, Sleman</th>\n",
       "      <th>listing-location_Turi, Sleman</th>\n",
       "      <th>listing-location_Umbulharjo, Yogyakarta</th>\n",
       "      <th>listing-location_Wates, Kulon Progo</th>\n",
       "      <th>listing-location_Wirobrajan, Yogyakarta</th>\n",
       "      <th>listing-location_Wonosari, Gunung Kidul</th>\n",
       "    </tr>\n",
       "  </thead>\n",
       "  <tbody>\n",
       "    <tr>\n",
       "      <th>0</th>\n",
       "      <td>2</td>\n",
       "      <td>1</td>\n",
       "      <td>1</td>\n",
       "      <td>100</td>\n",
       "      <td>90</td>\n",
       "      <td>0</td>\n",
       "      <td>0</td>\n",
       "      <td>0</td>\n",
       "      <td>0</td>\n",
       "      <td>0</td>\n",
       "      <td>...</td>\n",
       "      <td>0</td>\n",
       "      <td>0</td>\n",
       "      <td>0</td>\n",
       "      <td>0</td>\n",
       "      <td>0</td>\n",
       "      <td>0</td>\n",
       "      <td>0</td>\n",
       "      <td>0</td>\n",
       "      <td>0</td>\n",
       "      <td>0</td>\n",
       "    </tr>\n",
       "  </tbody>\n",
       "</table>\n",
       "<p>1 rows × 73 columns</p>\n",
       "</div>"
      ],
      "text/plain": [
       "   bed  bath  carport  surface_area  building_area  \\\n",
       "0    2     1        1           100             90   \n",
       "\n",
       "   listing-location_Banguntapan, Bantul  listing-location_Bantul, Bantul  \\\n",
       "0                                     0                                0   \n",
       "\n",
       "   listing-location_Bantul, Yogyakarta  listing-location_Berbah, Sleman  \\\n",
       "0                                    0                                0   \n",
       "\n",
       "   listing-location_Caturtunggal, Sleman  ...  \\\n",
       "0                                      0  ...   \n",
       "\n",
       "   listing-location_Sidoarum , Sleman  listing-location_Sleman, Sleman  \\\n",
       "0                                   0                                0   \n",
       "\n",
       "   listing-location_Sleman, Yogyakarta  \\\n",
       "0                                    0   \n",
       "\n",
       "   listing-location_Tegalrejo, Yogyakarta  listing-location_Tempel, Sleman  \\\n",
       "0                                       0                                0   \n",
       "\n",
       "   listing-location_Turi, Sleman  listing-location_Umbulharjo, Yogyakarta  \\\n",
       "0                              0                                        0   \n",
       "\n",
       "   listing-location_Wates, Kulon Progo  \\\n",
       "0                                    0   \n",
       "\n",
       "   listing-location_Wirobrajan, Yogyakarta  \\\n",
       "0                                        0   \n",
       "\n",
       "   listing-location_Wonosari, Gunung Kidul  \n",
       "0                                        0  \n",
       "\n",
       "[1 rows x 73 columns]"
      ]
     },
     "execution_count": 100,
     "metadata": {},
     "output_type": "execute_result"
    }
   ],
   "source": [
    "cols_train = df.columns.tolist()\n",
    "cols_train.remove('price')\n",
    "new_df = new_df.reindex(columns=cols_train, fill_value=0)\n",
    "new_df.head()"
   ]
  },
  {
   "cell_type": "code",
   "execution_count": 102,
   "metadata": {},
   "outputs": [
    {
     "name": "stdout",
     "output_type": "stream",
     "text": [
      "Predicted Price: [168178906.5300691]\n"
     ]
    },
    {
     "name": "stderr",
     "output_type": "stream",
     "text": [
      "/Library/Frameworks/Python.framework/Versions/3.10/lib/python3.10/site-packages/sklearn/base.py:464: UserWarning: X does not have valid feature names, but LinearRegression was fitted with feature names\n",
      "  warnings.warn(\n"
     ]
    }
   ],
   "source": [
    "predicted_price = model.predict([new_df.iloc[0]])\n",
    "print(\"Predicted Price:\", predicted_price)"
   ]
  },
  {
   "cell_type": "code",
   "execution_count": 103,
   "metadata": {},
   "outputs": [
    {
     "name": "stdout",
     "output_type": "stream",
     "text": [
      "Collecting Flask-SQLAlchemy\n",
      "  Downloading flask_sqlalchemy-3.1.1-py3-none-any.whl.metadata (3.4 kB)\n",
      "Requirement already satisfied: flask>=2.2.5 in /Library/Frameworks/Python.framework/Versions/3.10/lib/python3.10/site-packages (from Flask-SQLAlchemy) (3.0.2)\n",
      "Collecting sqlalchemy>=2.0.16 (from Flask-SQLAlchemy)\n",
      "  Downloading SQLAlchemy-2.0.30-cp310-cp310-macosx_11_0_arm64.whl.metadata (9.6 kB)\n",
      "Requirement already satisfied: Werkzeug>=3.0.0 in /Library/Frameworks/Python.framework/Versions/3.10/lib/python3.10/site-packages (from flask>=2.2.5->Flask-SQLAlchemy) (3.0.1)\n",
      "Requirement already satisfied: Jinja2>=3.1.2 in /Library/Frameworks/Python.framework/Versions/3.10/lib/python3.10/site-packages (from flask>=2.2.5->Flask-SQLAlchemy) (3.1.3)\n",
      "Requirement already satisfied: itsdangerous>=2.1.2 in /Library/Frameworks/Python.framework/Versions/3.10/lib/python3.10/site-packages (from flask>=2.2.5->Flask-SQLAlchemy) (2.1.2)\n",
      "Requirement already satisfied: click>=8.1.3 in /Library/Frameworks/Python.framework/Versions/3.10/lib/python3.10/site-packages (from flask>=2.2.5->Flask-SQLAlchemy) (8.1.7)\n",
      "Requirement already satisfied: blinker>=1.6.2 in /Library/Frameworks/Python.framework/Versions/3.10/lib/python3.10/site-packages (from flask>=2.2.5->Flask-SQLAlchemy) (1.7.0)\n",
      "Requirement already satisfied: typing-extensions>=4.6.0 in /Library/Frameworks/Python.framework/Versions/3.10/lib/python3.10/site-packages (from sqlalchemy>=2.0.16->Flask-SQLAlchemy) (4.7.1)\n",
      "Requirement already satisfied: MarkupSafe>=2.0 in /Library/Frameworks/Python.framework/Versions/3.10/lib/python3.10/site-packages (from Jinja2>=3.1.2->flask>=2.2.5->Flask-SQLAlchemy) (2.1.5)\n",
      "Downloading flask_sqlalchemy-3.1.1-py3-none-any.whl (25 kB)\n",
      "Downloading SQLAlchemy-2.0.30-cp310-cp310-macosx_11_0_arm64.whl (2.1 MB)\n",
      "\u001b[2K   \u001b[90m━━━━━━━━━━━━━━━━━━━━━━━━━━━━━━━━━━━━━━━━\u001b[0m \u001b[32m2.1/2.1 MB\u001b[0m \u001b[31m178.9 kB/s\u001b[0m eta \u001b[36m0:00:00\u001b[0m00:01\u001b[0m00:01\u001b[0m\n",
      "\u001b[?25hInstalling collected packages: sqlalchemy, Flask-SQLAlchemy\n",
      "Successfully installed Flask-SQLAlchemy-3.1.1 sqlalchemy-2.0.30\n",
      "Note: you may need to restart the kernel to use updated packages.\n"
     ]
    }
   ],
   "source": [
    "%pip install Flask-SQLAlchemy"
   ]
  },
  {
   "cell_type": "code",
   "execution_count": 104,
   "metadata": {},
   "outputs": [
    {
     "name": "stdout",
     "output_type": "stream",
     "text": [
      "Collecting watchdog\n",
      "  Downloading watchdog-4.0.1-cp310-cp310-macosx_11_0_arm64.whl.metadata (37 kB)\n",
      "Downloading watchdog-4.0.1-cp310-cp310-macosx_11_0_arm64.whl (92 kB)\n",
      "\u001b[2K   \u001b[90m━━━━━━━━━━━━━━━━━━━━━━━━━━━━━━━━━━━━━━━━\u001b[0m \u001b[32m93.0/93.0 kB\u001b[0m \u001b[31m233.6 kB/s\u001b[0m eta \u001b[36m0:00:00\u001b[0m00:01\u001b[0m:01\u001b[0m\n",
      "\u001b[?25hInstalling collected packages: watchdog\n",
      "Successfully installed watchdog-4.0.1\n",
      "Note: you may need to restart the kernel to use updated packages.\n"
     ]
    }
   ],
   "source": [
    "%pip install --force-reinstall watchdog"
   ]
  },
  {
   "cell_type": "code",
   "execution_count": null,
   "metadata": {},
   "outputs": [],
   "source": []
  }
 ],
 "metadata": {
  "kernelspec": {
   "display_name": "Python 3",
   "language": "python",
   "name": "python3"
  },
  "language_info": {
   "codemirror_mode": {
    "name": "ipython",
    "version": 3
   },
   "file_extension": ".py",
   "mimetype": "text/x-python",
   "name": "python",
   "nbconvert_exporter": "python",
   "pygments_lexer": "ipython3",
   "version": "3.10.11"
  }
 },
 "nbformat": 4,
 "nbformat_minor": 2
}
